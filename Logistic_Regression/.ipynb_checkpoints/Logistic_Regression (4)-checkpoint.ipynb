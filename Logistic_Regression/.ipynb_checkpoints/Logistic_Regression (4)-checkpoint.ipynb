{
 "cells": [
  {
   "cell_type": "markdown",
   "id": "35f3ef25",
   "metadata": {},
   "source": [
    "#  Portuguese Bank\n",
    "\n",
    "\n",
    "\n"
   ]
  },
  {
   "cell_type": "markdown",
   "id": "89d34c1c",
   "metadata": {},
   "source": [
    "The Portuguese Bank's customers haven't investigated enough for long term deposits, which that leads to revenue decline. To fix the issue, the bank will be identified the customers who have chance to subscribe for long-term deposit. Then, the marketing campaign will be focused on those customers."
   ]
  },
  {
   "cell_type": "code",
   "execution_count": 1,
   "id": "be8224d5",
   "metadata": {},
   "outputs": [],
   "source": [
    "import numpy as np\n",
    "import pandas as pd\n",
    "from sklearn.model_selection import train_test_split\n",
    "from sklearn.preprocessing import StandardScaler\n",
    "from sklearn.linear_model import LogisticRegression\n",
    "from sklearn.neighbors import KNeighborsClassifier\n",
    "from sklearn.tree import DecisionTreeClassifier\n",
    "from sklearn.ensemble import RandomForestClassifier, GradientBoostingClassifier,AdaBoostClassifier,AdaBoostRegressor\n",
    "from sklearn.metrics import confusion_matrix, classification_report\n",
    "from sklearn.model_selection import GridSearchCV\n",
    "import matplotlib.pyplot as plt\n",
    "# from sklearn.metrics import accuracy_score,f1_score,precision_score\n",
    "from sklearn.metrics import precision_score, recall_score, precision_recall_curve,f1_score, fbeta_score,accuracy_score\n",
    "\n",
    "import seaborn as sns"
   ]
  },
  {
   "cell_type": "code",
   "execution_count": 2,
   "id": "590fd114",
   "metadata": {
    "scrolled": true
   },
   "outputs": [],
   "source": [
    "df=pd.read_csv('/Users/hindsalem/Desktop/Project/Project_Portuguese_Bank/Data/Sqlalsheme/Bank_Dataset.csv')"
   ]
  },
  {
   "cell_type": "code",
   "execution_count": 3,
   "id": "676aa5b1",
   "metadata": {},
   "outputs": [
    {
     "data": {
      "text/html": [
       "<div>\n",
       "<style scoped>\n",
       "    .dataframe tbody tr th:only-of-type {\n",
       "        vertical-align: middle;\n",
       "    }\n",
       "\n",
       "    .dataframe tbody tr th {\n",
       "        vertical-align: top;\n",
       "    }\n",
       "\n",
       "    .dataframe thead th {\n",
       "        text-align: right;\n",
       "    }\n",
       "</style>\n",
       "<table border=\"1\" class=\"dataframe\">\n",
       "  <thead>\n",
       "    <tr style=\"text-align: right;\">\n",
       "      <th></th>\n",
       "      <th>Unnamed: 0</th>\n",
       "      <th>age</th>\n",
       "      <th>job</th>\n",
       "      <th>marital</th>\n",
       "      <th>education</th>\n",
       "      <th>housing</th>\n",
       "      <th>loan</th>\n",
       "      <th>contact</th>\n",
       "      <th>month</th>\n",
       "      <th>day_of_week</th>\n",
       "      <th>duration</th>\n",
       "      <th>campaign</th>\n",
       "      <th>pdays</th>\n",
       "      <th>previous</th>\n",
       "      <th>poutcome</th>\n",
       "      <th>Target</th>\n",
       "    </tr>\n",
       "  </thead>\n",
       "  <tbody>\n",
       "    <tr>\n",
       "      <th>0</th>\n",
       "      <td>0</td>\n",
       "      <td>49</td>\n",
       "      <td>blue-collar</td>\n",
       "      <td>married</td>\n",
       "      <td>basic.9y</td>\n",
       "      <td>no</td>\n",
       "      <td>no</td>\n",
       "      <td>cellular</td>\n",
       "      <td>nov</td>\n",
       "      <td>wed</td>\n",
       "      <td>227</td>\n",
       "      <td>4</td>\n",
       "      <td>999</td>\n",
       "      <td>0</td>\n",
       "      <td>nonexistent</td>\n",
       "      <td>no</td>\n",
       "    </tr>\n",
       "    <tr>\n",
       "      <th>1</th>\n",
       "      <td>1</td>\n",
       "      <td>37</td>\n",
       "      <td>entrepreneur</td>\n",
       "      <td>married</td>\n",
       "      <td>university.degree</td>\n",
       "      <td>no</td>\n",
       "      <td>no</td>\n",
       "      <td>telephone</td>\n",
       "      <td>nov</td>\n",
       "      <td>wed</td>\n",
       "      <td>202</td>\n",
       "      <td>2</td>\n",
       "      <td>999</td>\n",
       "      <td>1</td>\n",
       "      <td>failure</td>\n",
       "      <td>no</td>\n",
       "    </tr>\n",
       "    <tr>\n",
       "      <th>2</th>\n",
       "      <td>2</td>\n",
       "      <td>78</td>\n",
       "      <td>retired</td>\n",
       "      <td>married</td>\n",
       "      <td>basic.4y</td>\n",
       "      <td>no</td>\n",
       "      <td>no</td>\n",
       "      <td>cellular</td>\n",
       "      <td>jul</td>\n",
       "      <td>mon</td>\n",
       "      <td>1148</td>\n",
       "      <td>1</td>\n",
       "      <td>999</td>\n",
       "      <td>0</td>\n",
       "      <td>nonexistent</td>\n",
       "      <td>yes</td>\n",
       "    </tr>\n",
       "    <tr>\n",
       "      <th>3</th>\n",
       "      <td>3</td>\n",
       "      <td>36</td>\n",
       "      <td>admin.</td>\n",
       "      <td>married</td>\n",
       "      <td>university.degree</td>\n",
       "      <td>yes</td>\n",
       "      <td>no</td>\n",
       "      <td>telephone</td>\n",
       "      <td>may</td>\n",
       "      <td>mon</td>\n",
       "      <td>120</td>\n",
       "      <td>2</td>\n",
       "      <td>999</td>\n",
       "      <td>0</td>\n",
       "      <td>nonexistent</td>\n",
       "      <td>no</td>\n",
       "    </tr>\n",
       "    <tr>\n",
       "      <th>4</th>\n",
       "      <td>4</td>\n",
       "      <td>59</td>\n",
       "      <td>retired</td>\n",
       "      <td>divorced</td>\n",
       "      <td>university.degree</td>\n",
       "      <td>no</td>\n",
       "      <td>no</td>\n",
       "      <td>cellular</td>\n",
       "      <td>jun</td>\n",
       "      <td>tue</td>\n",
       "      <td>368</td>\n",
       "      <td>2</td>\n",
       "      <td>999</td>\n",
       "      <td>0</td>\n",
       "      <td>nonexistent</td>\n",
       "      <td>no</td>\n",
       "    </tr>\n",
       "    <tr>\n",
       "      <th>...</th>\n",
       "      <td>...</td>\n",
       "      <td>...</td>\n",
       "      <td>...</td>\n",
       "      <td>...</td>\n",
       "      <td>...</td>\n",
       "      <td>...</td>\n",
       "      <td>...</td>\n",
       "      <td>...</td>\n",
       "      <td>...</td>\n",
       "      <td>...</td>\n",
       "      <td>...</td>\n",
       "      <td>...</td>\n",
       "      <td>...</td>\n",
       "      <td>...</td>\n",
       "      <td>...</td>\n",
       "      <td>...</td>\n",
       "    </tr>\n",
       "    <tr>\n",
       "      <th>74133</th>\n",
       "      <td>74133</td>\n",
       "      <td>73</td>\n",
       "      <td>retired</td>\n",
       "      <td>married</td>\n",
       "      <td>professional.course</td>\n",
       "      <td>yes</td>\n",
       "      <td>no</td>\n",
       "      <td>cellular</td>\n",
       "      <td>nov</td>\n",
       "      <td>fri</td>\n",
       "      <td>334</td>\n",
       "      <td>1</td>\n",
       "      <td>999</td>\n",
       "      <td>0</td>\n",
       "      <td>nonexistent</td>\n",
       "      <td>yes</td>\n",
       "    </tr>\n",
       "    <tr>\n",
       "      <th>74134</th>\n",
       "      <td>74134</td>\n",
       "      <td>46</td>\n",
       "      <td>blue-collar</td>\n",
       "      <td>married</td>\n",
       "      <td>professional.course</td>\n",
       "      <td>no</td>\n",
       "      <td>no</td>\n",
       "      <td>cellular</td>\n",
       "      <td>nov</td>\n",
       "      <td>fri</td>\n",
       "      <td>383</td>\n",
       "      <td>1</td>\n",
       "      <td>999</td>\n",
       "      <td>0</td>\n",
       "      <td>nonexistent</td>\n",
       "      <td>no</td>\n",
       "    </tr>\n",
       "    <tr>\n",
       "      <th>74135</th>\n",
       "      <td>74135</td>\n",
       "      <td>56</td>\n",
       "      <td>retired</td>\n",
       "      <td>married</td>\n",
       "      <td>university.degree</td>\n",
       "      <td>yes</td>\n",
       "      <td>no</td>\n",
       "      <td>cellular</td>\n",
       "      <td>nov</td>\n",
       "      <td>fri</td>\n",
       "      <td>189</td>\n",
       "      <td>2</td>\n",
       "      <td>999</td>\n",
       "      <td>0</td>\n",
       "      <td>nonexistent</td>\n",
       "      <td>no</td>\n",
       "    </tr>\n",
       "    <tr>\n",
       "      <th>74136</th>\n",
       "      <td>74136</td>\n",
       "      <td>44</td>\n",
       "      <td>technician</td>\n",
       "      <td>married</td>\n",
       "      <td>professional.course</td>\n",
       "      <td>no</td>\n",
       "      <td>no</td>\n",
       "      <td>cellular</td>\n",
       "      <td>nov</td>\n",
       "      <td>fri</td>\n",
       "      <td>442</td>\n",
       "      <td>1</td>\n",
       "      <td>999</td>\n",
       "      <td>0</td>\n",
       "      <td>nonexistent</td>\n",
       "      <td>yes</td>\n",
       "    </tr>\n",
       "    <tr>\n",
       "      <th>74137</th>\n",
       "      <td>74137</td>\n",
       "      <td>74</td>\n",
       "      <td>retired</td>\n",
       "      <td>married</td>\n",
       "      <td>professional.course</td>\n",
       "      <td>yes</td>\n",
       "      <td>no</td>\n",
       "      <td>cellular</td>\n",
       "      <td>nov</td>\n",
       "      <td>fri</td>\n",
       "      <td>239</td>\n",
       "      <td>3</td>\n",
       "      <td>999</td>\n",
       "      <td>1</td>\n",
       "      <td>failure</td>\n",
       "      <td>no</td>\n",
       "    </tr>\n",
       "  </tbody>\n",
       "</table>\n",
       "<p>74138 rows × 16 columns</p>\n",
       "</div>"
      ],
      "text/plain": [
       "       Unnamed: 0  age           job   marital            education housing  \\\n",
       "0               0   49   blue-collar   married             basic.9y      no   \n",
       "1               1   37  entrepreneur   married    university.degree      no   \n",
       "2               2   78       retired   married             basic.4y      no   \n",
       "3               3   36        admin.   married    university.degree     yes   \n",
       "4               4   59       retired  divorced    university.degree      no   \n",
       "...           ...  ...           ...       ...                  ...     ...   \n",
       "74133       74133   73       retired   married  professional.course     yes   \n",
       "74134       74134   46   blue-collar   married  professional.course      no   \n",
       "74135       74135   56       retired   married    university.degree     yes   \n",
       "74136       74136   44    technician   married  professional.course      no   \n",
       "74137       74137   74       retired   married  professional.course     yes   \n",
       "\n",
       "      loan    contact month day_of_week  duration  campaign  pdays  previous  \\\n",
       "0       no   cellular   nov         wed       227         4    999         0   \n",
       "1       no  telephone   nov         wed       202         2    999         1   \n",
       "2       no   cellular   jul         mon      1148         1    999         0   \n",
       "3       no  telephone   may         mon       120         2    999         0   \n",
       "4       no   cellular   jun         tue       368         2    999         0   \n",
       "...    ...        ...   ...         ...       ...       ...    ...       ...   \n",
       "74133   no   cellular   nov         fri       334         1    999         0   \n",
       "74134   no   cellular   nov         fri       383         1    999         0   \n",
       "74135   no   cellular   nov         fri       189         2    999         0   \n",
       "74136   no   cellular   nov         fri       442         1    999         0   \n",
       "74137   no   cellular   nov         fri       239         3    999         1   \n",
       "\n",
       "          poutcome Target  \n",
       "0      nonexistent     no  \n",
       "1          failure     no  \n",
       "2      nonexistent    yes  \n",
       "3      nonexistent     no  \n",
       "4      nonexistent     no  \n",
       "...            ...    ...  \n",
       "74133  nonexistent    yes  \n",
       "74134  nonexistent     no  \n",
       "74135  nonexistent     no  \n",
       "74136  nonexistent    yes  \n",
       "74137      failure     no  \n",
       "\n",
       "[74138 rows x 16 columns]"
      ]
     },
     "execution_count": 3,
     "metadata": {},
     "output_type": "execute_result"
    }
   ],
   "source": [
    "df"
   ]
  },
  {
   "cell_type": "code",
   "execution_count": 4,
   "id": "b2fb2479",
   "metadata": {},
   "outputs": [
    {
     "data": {
      "text/plain": [
       "Index(['Unnamed: 0', 'age', 'job', 'marital', 'education', 'housing', 'loan',\n",
       "       'contact', 'month', 'day_of_week', 'duration', 'campaign', 'pdays',\n",
       "       'previous', 'poutcome', 'Target'],\n",
       "      dtype='object')"
      ]
     },
     "execution_count": 4,
     "metadata": {},
     "output_type": "execute_result"
    }
   ],
   "source": [
    "df.columns.str.strip()"
   ]
  },
  {
   "cell_type": "code",
   "execution_count": 5,
   "id": "f53866e0",
   "metadata": {},
   "outputs": [],
   "source": [
    "df=df.drop(df.columns[0],axis=1)\n",
    "df['Target']=df['Target'].apply(lambda x : 1 if 'yes' in x else 0)\n",
    "columns_list=['job','marital','education','housing','loan','contact','month','day_of_week','poutcome']\n",
    "\n",
    "for col in columns_list:\n",
    "    dummies=pd.get_dummies(df[f'{col}'])\n",
    "    df=pd.concat([df, dummies], axis=1)\n",
    "    df=df.drop(f'{col}',axis=1)"
   ]
  },
  {
   "cell_type": "code",
   "execution_count": 6,
   "id": "50373e51",
   "metadata": {},
   "outputs": [],
   "source": [
    "df['self_employed']=df['self-employed']\n",
    "df['basic9y']=df['basic.9y']\n",
    "df['professional_course']=df['professional.course']\n",
    "df['university_degree']=df['university.degree']\n",
    "df['admin']=df['admin.']\n",
    "df['blue_collar']=df['blue-collar']\n",
    "df['high_school']=df['high.school']\n",
    "df['university_degree']=df['university.degree']\n",
    "df['basic6y']=df['basic.6y']\n",
    "df['basic4y']=df['basic.4y']\n",
    "\n",
    "df=df.drop(['admin.','basic.9y','basic.4y','self-employed','professional.course','university.degree','blue-collar','high.school','university.degree','basic.6y'],axis=1)\n",
    "\n",
    "\n",
    "\n",
    "\n",
    "\n"
   ]
  },
  {
   "cell_type": "code",
   "execution_count": 7,
   "id": "883b6023",
   "metadata": {},
   "outputs": [
    {
     "data": {
      "text/plain": [
       "Index(['age', 'duration', 'campaign', 'pdays', 'previous', 'Target',\n",
       "       'entrepreneur', 'housemaid', 'management', 'retired', 'services',\n",
       "       'student', 'technician', 'unemployed', 'unknown', 'divorced', 'married',\n",
       "       'single', 'unknown', 'illiterate', 'unknown', 'no', 'unknown', 'yes',\n",
       "       'no', 'unknown', 'yes', 'cellular', 'telephone', 'apr', 'aug', 'dec',\n",
       "       'jul', 'jun', 'mar', 'may', 'nov', 'oct', 'sep', 'fri', 'mon', 'thu',\n",
       "       'tue', 'wed', 'failure', 'nonexistent', 'success', 'self_employed',\n",
       "       'basic9y', 'professional_course', 'university_degree', 'admin',\n",
       "       'blue_collar', 'high_school', 'basic6y', 'basic4y'],\n",
       "      dtype='object')"
      ]
     },
     "execution_count": 7,
     "metadata": {},
     "output_type": "execute_result"
    }
   ],
   "source": [
    "df.columns\n"
   ]
  },
  {
   "cell_type": "code",
   "execution_count": 8,
   "id": "beada869",
   "metadata": {},
   "outputs": [
    {
     "data": {
      "text/html": [
       "<div>\n",
       "<style scoped>\n",
       "    .dataframe tbody tr th:only-of-type {\n",
       "        vertical-align: middle;\n",
       "    }\n",
       "\n",
       "    .dataframe tbody tr th {\n",
       "        vertical-align: top;\n",
       "    }\n",
       "\n",
       "    .dataframe thead th {\n",
       "        text-align: right;\n",
       "    }\n",
       "</style>\n",
       "<table border=\"1\" class=\"dataframe\">\n",
       "  <thead>\n",
       "    <tr style=\"text-align: right;\">\n",
       "      <th></th>\n",
       "      <th>age</th>\n",
       "      <th>duration</th>\n",
       "      <th>campaign</th>\n",
       "      <th>pdays</th>\n",
       "      <th>previous</th>\n",
       "      <th>Target</th>\n",
       "      <th>entrepreneur</th>\n",
       "      <th>housemaid</th>\n",
       "      <th>management</th>\n",
       "      <th>retired</th>\n",
       "      <th>...</th>\n",
       "      <th>success</th>\n",
       "      <th>self_employed</th>\n",
       "      <th>basic9y</th>\n",
       "      <th>professional_course</th>\n",
       "      <th>university_degree</th>\n",
       "      <th>admin</th>\n",
       "      <th>blue_collar</th>\n",
       "      <th>high_school</th>\n",
       "      <th>basic6y</th>\n",
       "      <th>basic4y</th>\n",
       "    </tr>\n",
       "  </thead>\n",
       "  <tbody>\n",
       "    <tr>\n",
       "      <th>0</th>\n",
       "      <td>49</td>\n",
       "      <td>227</td>\n",
       "      <td>4</td>\n",
       "      <td>999</td>\n",
       "      <td>0</td>\n",
       "      <td>0</td>\n",
       "      <td>0</td>\n",
       "      <td>0</td>\n",
       "      <td>0</td>\n",
       "      <td>0</td>\n",
       "      <td>...</td>\n",
       "      <td>0</td>\n",
       "      <td>0</td>\n",
       "      <td>1</td>\n",
       "      <td>0</td>\n",
       "      <td>0</td>\n",
       "      <td>0</td>\n",
       "      <td>1</td>\n",
       "      <td>0</td>\n",
       "      <td>0</td>\n",
       "      <td>0</td>\n",
       "    </tr>\n",
       "    <tr>\n",
       "      <th>1</th>\n",
       "      <td>37</td>\n",
       "      <td>202</td>\n",
       "      <td>2</td>\n",
       "      <td>999</td>\n",
       "      <td>1</td>\n",
       "      <td>0</td>\n",
       "      <td>1</td>\n",
       "      <td>0</td>\n",
       "      <td>0</td>\n",
       "      <td>0</td>\n",
       "      <td>...</td>\n",
       "      <td>0</td>\n",
       "      <td>0</td>\n",
       "      <td>0</td>\n",
       "      <td>0</td>\n",
       "      <td>1</td>\n",
       "      <td>0</td>\n",
       "      <td>0</td>\n",
       "      <td>0</td>\n",
       "      <td>0</td>\n",
       "      <td>0</td>\n",
       "    </tr>\n",
       "    <tr>\n",
       "      <th>2</th>\n",
       "      <td>78</td>\n",
       "      <td>1148</td>\n",
       "      <td>1</td>\n",
       "      <td>999</td>\n",
       "      <td>0</td>\n",
       "      <td>1</td>\n",
       "      <td>0</td>\n",
       "      <td>0</td>\n",
       "      <td>0</td>\n",
       "      <td>1</td>\n",
       "      <td>...</td>\n",
       "      <td>0</td>\n",
       "      <td>0</td>\n",
       "      <td>0</td>\n",
       "      <td>0</td>\n",
       "      <td>0</td>\n",
       "      <td>0</td>\n",
       "      <td>0</td>\n",
       "      <td>0</td>\n",
       "      <td>0</td>\n",
       "      <td>1</td>\n",
       "    </tr>\n",
       "    <tr>\n",
       "      <th>3</th>\n",
       "      <td>36</td>\n",
       "      <td>120</td>\n",
       "      <td>2</td>\n",
       "      <td>999</td>\n",
       "      <td>0</td>\n",
       "      <td>0</td>\n",
       "      <td>0</td>\n",
       "      <td>0</td>\n",
       "      <td>0</td>\n",
       "      <td>0</td>\n",
       "      <td>...</td>\n",
       "      <td>0</td>\n",
       "      <td>0</td>\n",
       "      <td>0</td>\n",
       "      <td>0</td>\n",
       "      <td>1</td>\n",
       "      <td>1</td>\n",
       "      <td>0</td>\n",
       "      <td>0</td>\n",
       "      <td>0</td>\n",
       "      <td>0</td>\n",
       "    </tr>\n",
       "    <tr>\n",
       "      <th>4</th>\n",
       "      <td>59</td>\n",
       "      <td>368</td>\n",
       "      <td>2</td>\n",
       "      <td>999</td>\n",
       "      <td>0</td>\n",
       "      <td>0</td>\n",
       "      <td>0</td>\n",
       "      <td>0</td>\n",
       "      <td>0</td>\n",
       "      <td>1</td>\n",
       "      <td>...</td>\n",
       "      <td>0</td>\n",
       "      <td>0</td>\n",
       "      <td>0</td>\n",
       "      <td>0</td>\n",
       "      <td>1</td>\n",
       "      <td>0</td>\n",
       "      <td>0</td>\n",
       "      <td>0</td>\n",
       "      <td>0</td>\n",
       "      <td>0</td>\n",
       "    </tr>\n",
       "  </tbody>\n",
       "</table>\n",
       "<p>5 rows × 56 columns</p>\n",
       "</div>"
      ],
      "text/plain": [
       "   age  duration  campaign  pdays  previous  Target  entrepreneur  housemaid  \\\n",
       "0   49       227         4    999         0       0             0          0   \n",
       "1   37       202         2    999         1       0             1          0   \n",
       "2   78      1148         1    999         0       1             0          0   \n",
       "3   36       120         2    999         0       0             0          0   \n",
       "4   59       368         2    999         0       0             0          0   \n",
       "\n",
       "   management  retired  ...  success  self_employed  basic9y  \\\n",
       "0           0        0  ...        0              0        1   \n",
       "1           0        0  ...        0              0        0   \n",
       "2           0        1  ...        0              0        0   \n",
       "3           0        0  ...        0              0        0   \n",
       "4           0        1  ...        0              0        0   \n",
       "\n",
       "   professional_course  university_degree  admin  blue_collar  high_school  \\\n",
       "0                    0                  0      0            1            0   \n",
       "1                    0                  1      0            0            0   \n",
       "2                    0                  0      0            0            0   \n",
       "3                    0                  1      1            0            0   \n",
       "4                    0                  1      0            0            0   \n",
       "\n",
       "   basic6y  basic4y  \n",
       "0        0        0  \n",
       "1        0        0  \n",
       "2        0        1  \n",
       "3        0        0  \n",
       "4        0        0  \n",
       "\n",
       "[5 rows x 56 columns]"
      ]
     },
     "execution_count": 8,
     "metadata": {},
     "output_type": "execute_result"
    }
   ],
   "source": [
    "df.head()"
   ]
  },
  {
   "cell_type": "code",
   "execution_count": 9,
   "id": "054963f2",
   "metadata": {},
   "outputs": [
    {
     "data": {
      "text/plain": [
       "32965"
      ]
     },
     "execution_count": 9,
     "metadata": {},
     "output_type": "execute_result"
    }
   ],
   "source": [
    "df.duplicated().sum()"
   ]
  },
  {
   "cell_type": "code",
   "execution_count": 10,
   "id": "a8c5f5c6",
   "metadata": {},
   "outputs": [
    {
     "data": {
      "text/plain": [
       "age                    0\n",
       "duration               0\n",
       "campaign               0\n",
       "pdays                  0\n",
       "previous               0\n",
       "Target                 0\n",
       "entrepreneur           0\n",
       "housemaid              0\n",
       "management             0\n",
       "retired                0\n",
       "services               0\n",
       "student                0\n",
       "technician             0\n",
       "unemployed             0\n",
       "unknown                0\n",
       "divorced               0\n",
       "married                0\n",
       "single                 0\n",
       "unknown                0\n",
       "illiterate             0\n",
       "unknown                0\n",
       "no                     0\n",
       "unknown                0\n",
       "yes                    0\n",
       "no                     0\n",
       "unknown                0\n",
       "yes                    0\n",
       "cellular               0\n",
       "telephone              0\n",
       "apr                    0\n",
       "aug                    0\n",
       "dec                    0\n",
       "jul                    0\n",
       "jun                    0\n",
       "mar                    0\n",
       "may                    0\n",
       "nov                    0\n",
       "oct                    0\n",
       "sep                    0\n",
       "fri                    0\n",
       "mon                    0\n",
       "thu                    0\n",
       "tue                    0\n",
       "wed                    0\n",
       "failure                0\n",
       "nonexistent            0\n",
       "success                0\n",
       "self_employed          0\n",
       "basic9y                0\n",
       "professional_course    0\n",
       "university_degree      0\n",
       "admin                  0\n",
       "blue_collar            0\n",
       "high_school            0\n",
       "basic6y                0\n",
       "basic4y                0\n",
       "dtype: int64"
      ]
     },
     "execution_count": 10,
     "metadata": {},
     "output_type": "execute_result"
    }
   ],
   "source": [
    "df.isnull().sum()"
   ]
  },
  {
   "cell_type": "code",
   "execution_count": 11,
   "id": "2f50a616",
   "metadata": {},
   "outputs": [
    {
     "name": "stdout",
     "output_type": "stream",
     "text": [
      "<class 'pandas.core.frame.DataFrame'>\n",
      "RangeIndex: 74138 entries, 0 to 74137\n",
      "Data columns (total 56 columns):\n",
      " #   Column               Non-Null Count  Dtype\n",
      "---  ------               --------------  -----\n",
      " 0   age                  74138 non-null  int64\n",
      " 1   duration             74138 non-null  int64\n",
      " 2   campaign             74138 non-null  int64\n",
      " 3   pdays                74138 non-null  int64\n",
      " 4   previous             74138 non-null  int64\n",
      " 5   Target               74138 non-null  int64\n",
      " 6   entrepreneur         74138 non-null  uint8\n",
      " 7   housemaid            74138 non-null  uint8\n",
      " 8   management           74138 non-null  uint8\n",
      " 9   retired              74138 non-null  uint8\n",
      " 10  services             74138 non-null  uint8\n",
      " 11  student              74138 non-null  uint8\n",
      " 12  technician           74138 non-null  uint8\n",
      " 13  unemployed           74138 non-null  uint8\n",
      " 14  unknown              74138 non-null  uint8\n",
      " 15  divorced             74138 non-null  uint8\n",
      " 16  married              74138 non-null  uint8\n",
      " 17  single               74138 non-null  uint8\n",
      " 18  unknown              74138 non-null  uint8\n",
      " 19  illiterate           74138 non-null  uint8\n",
      " 20  unknown              74138 non-null  uint8\n",
      " 21  no                   74138 non-null  uint8\n",
      " 22  unknown              74138 non-null  uint8\n",
      " 23  yes                  74138 non-null  uint8\n",
      " 24  no                   74138 non-null  uint8\n",
      " 25  unknown              74138 non-null  uint8\n",
      " 26  yes                  74138 non-null  uint8\n",
      " 27  cellular             74138 non-null  uint8\n",
      " 28  telephone            74138 non-null  uint8\n",
      " 29  apr                  74138 non-null  uint8\n",
      " 30  aug                  74138 non-null  uint8\n",
      " 31  dec                  74138 non-null  uint8\n",
      " 32  jul                  74138 non-null  uint8\n",
      " 33  jun                  74138 non-null  uint8\n",
      " 34  mar                  74138 non-null  uint8\n",
      " 35  may                  74138 non-null  uint8\n",
      " 36  nov                  74138 non-null  uint8\n",
      " 37  oct                  74138 non-null  uint8\n",
      " 38  sep                  74138 non-null  uint8\n",
      " 39  fri                  74138 non-null  uint8\n",
      " 40  mon                  74138 non-null  uint8\n",
      " 41  thu                  74138 non-null  uint8\n",
      " 42  tue                  74138 non-null  uint8\n",
      " 43  wed                  74138 non-null  uint8\n",
      " 44  failure              74138 non-null  uint8\n",
      " 45  nonexistent          74138 non-null  uint8\n",
      " 46  success              74138 non-null  uint8\n",
      " 47  self_employed        74138 non-null  uint8\n",
      " 48  basic9y              74138 non-null  uint8\n",
      " 49  professional_course  74138 non-null  uint8\n",
      " 50  university_degree    74138 non-null  uint8\n",
      " 51  admin                74138 non-null  uint8\n",
      " 52  blue_collar          74138 non-null  uint8\n",
      " 53  high_school          74138 non-null  uint8\n",
      " 54  basic6y              74138 non-null  uint8\n",
      " 55  basic4y              74138 non-null  uint8\n",
      "dtypes: int64(6), uint8(50)\n",
      "memory usage: 6.9 MB\n"
     ]
    }
   ],
   "source": [
    "df.info()"
   ]
  },
  {
   "cell_type": "code",
   "execution_count": 12,
   "id": "c683b3be",
   "metadata": {},
   "outputs": [
    {
     "data": {
      "text/plain": [
       "0    65786\n",
       "1     8352\n",
       "Name: Target, dtype: int64"
      ]
     },
     "execution_count": 12,
     "metadata": {},
     "output_type": "execute_result"
    }
   ],
   "source": [
    "df.Target.value_counts()"
   ]
  },
  {
   "cell_type": "code",
   "execution_count": 13,
   "id": "fb89401c",
   "metadata": {
    "scrolled": true
   },
   "outputs": [
    {
     "name": "stdout",
     "output_type": "stream",
     "text": [
      "0    65786\n",
      "1     8352\n",
      "Name: Target, dtype: int64\n"
     ]
    },
    {
     "data": {
      "text/plain": [
       "<AxesSubplot:>"
      ]
     },
     "execution_count": 13,
     "metadata": {},
     "output_type": "execute_result"
    },
    {
     "data": {
      "image/png": "[encoded data removed]",
      "text/plain": [
       "<Figure size 432x288 with 1 Axes>"
      ]
     },
     "metadata": {
      "needs_background": "light"
     },
     "output_type": "display_data"
    }
   ],
   "source": [
    "target_pcts = df.Target.value_counts() \n",
    "print(target_pcts)\n",
    "\n",
    "\n",
    "target_pcts.plot(kind='bar',color='#800000')"
   ]
  },
  {
   "cell_type": "markdown",
   "id": "1ab02c0f",
   "metadata": {},
   "source": [
    "We can notice the class imbalance!"
   ]
  },
  {
   "cell_type": "code",
   "execution_count": 14,
   "id": "aa0d6be3",
   "metadata": {},
   "outputs": [
    {
     "data": {
      "text/plain": [
       "0        0\n",
       "1        0\n",
       "2        1\n",
       "3        0\n",
       "4        0\n",
       "        ..\n",
       "74133    1\n",
       "74134    0\n",
       "74135    0\n",
       "74136    1\n",
       "74137    0\n",
       "Name: Target, Length: 74138, dtype: int64"
      ]
     },
     "execution_count": 14,
     "metadata": {},
     "output_type": "execute_result"
    }
   ],
   "source": [
    "X=df.drop('Target',axis=1)\n",
    "y=df['Target']\n",
    "y"
   ]
  },
  {
   "cell_type": "code",
   "execution_count": 15,
   "id": "bbf1b971",
   "metadata": {},
   "outputs": [
    {
     "data": {
      "text/html": [
       "<div>\n",
       "<style scoped>\n",
       "    .dataframe tbody tr th:only-of-type {\n",
       "        vertical-align: middle;\n",
       "    }\n",
       "\n",
       "    .dataframe tbody tr th {\n",
       "        vertical-align: top;\n",
       "    }\n",
       "\n",
       "    .dataframe thead th {\n",
       "        text-align: right;\n",
       "    }\n",
       "</style>\n",
       "<table border=\"1\" class=\"dataframe\">\n",
       "  <thead>\n",
       "    <tr style=\"text-align: right;\">\n",
       "      <th></th>\n",
       "      <th>age</th>\n",
       "      <th>duration</th>\n",
       "      <th>campaign</th>\n",
       "      <th>pdays</th>\n",
       "      <th>previous</th>\n",
       "      <th>entrepreneur</th>\n",
       "      <th>housemaid</th>\n",
       "      <th>management</th>\n",
       "      <th>retired</th>\n",
       "      <th>services</th>\n",
       "      <th>...</th>\n",
       "      <th>success</th>\n",
       "      <th>self_employed</th>\n",
       "      <th>basic9y</th>\n",
       "      <th>professional_course</th>\n",
       "      <th>university_degree</th>\n",
       "      <th>admin</th>\n",
       "      <th>blue_collar</th>\n",
       "      <th>high_school</th>\n",
       "      <th>basic6y</th>\n",
       "      <th>basic4y</th>\n",
       "    </tr>\n",
       "  </thead>\n",
       "  <tbody>\n",
       "    <tr>\n",
       "      <th>0</th>\n",
       "      <td>49</td>\n",
       "      <td>227</td>\n",
       "      <td>4</td>\n",
       "      <td>999</td>\n",
       "      <td>0</td>\n",
       "      <td>0</td>\n",
       "      <td>0</td>\n",
       "      <td>0</td>\n",
       "      <td>0</td>\n",
       "      <td>0</td>\n",
       "      <td>...</td>\n",
       "      <td>0</td>\n",
       "      <td>0</td>\n",
       "      <td>1</td>\n",
       "      <td>0</td>\n",
       "      <td>0</td>\n",
       "      <td>0</td>\n",
       "      <td>1</td>\n",
       "      <td>0</td>\n",
       "      <td>0</td>\n",
       "      <td>0</td>\n",
       "    </tr>\n",
       "    <tr>\n",
       "      <th>1</th>\n",
       "      <td>37</td>\n",
       "      <td>202</td>\n",
       "      <td>2</td>\n",
       "      <td>999</td>\n",
       "      <td>1</td>\n",
       "      <td>1</td>\n",
       "      <td>0</td>\n",
       "      <td>0</td>\n",
       "      <td>0</td>\n",
       "      <td>0</td>\n",
       "      <td>...</td>\n",
       "      <td>0</td>\n",
       "      <td>0</td>\n",
       "      <td>0</td>\n",
       "      <td>0</td>\n",
       "      <td>1</td>\n",
       "      <td>0</td>\n",
       "      <td>0</td>\n",
       "      <td>0</td>\n",
       "      <td>0</td>\n",
       "      <td>0</td>\n",
       "    </tr>\n",
       "    <tr>\n",
       "      <th>2</th>\n",
       "      <td>78</td>\n",
       "      <td>1148</td>\n",
       "      <td>1</td>\n",
       "      <td>999</td>\n",
       "      <td>0</td>\n",
       "      <td>0</td>\n",
       "      <td>0</td>\n",
       "      <td>0</td>\n",
       "      <td>1</td>\n",
       "      <td>0</td>\n",
       "      <td>...</td>\n",
       "      <td>0</td>\n",
       "      <td>0</td>\n",
       "      <td>0</td>\n",
       "      <td>0</td>\n",
       "      <td>0</td>\n",
       "      <td>0</td>\n",
       "      <td>0</td>\n",
       "      <td>0</td>\n",
       "      <td>0</td>\n",
       "      <td>1</td>\n",
       "    </tr>\n",
       "    <tr>\n",
       "      <th>3</th>\n",
       "      <td>36</td>\n",
       "      <td>120</td>\n",
       "      <td>2</td>\n",
       "      <td>999</td>\n",
       "      <td>0</td>\n",
       "      <td>0</td>\n",
       "      <td>0</td>\n",
       "      <td>0</td>\n",
       "      <td>0</td>\n",
       "      <td>0</td>\n",
       "      <td>...</td>\n",
       "      <td>0</td>\n",
       "      <td>0</td>\n",
       "      <td>0</td>\n",
       "      <td>0</td>\n",
       "      <td>1</td>\n",
       "      <td>1</td>\n",
       "      <td>0</td>\n",
       "      <td>0</td>\n",
       "      <td>0</td>\n",
       "      <td>0</td>\n",
       "    </tr>\n",
       "    <tr>\n",
       "      <th>4</th>\n",
       "      <td>59</td>\n",
       "      <td>368</td>\n",
       "      <td>2</td>\n",
       "      <td>999</td>\n",
       "      <td>0</td>\n",
       "      <td>0</td>\n",
       "      <td>0</td>\n",
       "      <td>0</td>\n",
       "      <td>1</td>\n",
       "      <td>0</td>\n",
       "      <td>...</td>\n",
       "      <td>0</td>\n",
       "      <td>0</td>\n",
       "      <td>0</td>\n",
       "      <td>0</td>\n",
       "      <td>1</td>\n",
       "      <td>0</td>\n",
       "      <td>0</td>\n",
       "      <td>0</td>\n",
       "      <td>0</td>\n",
       "      <td>0</td>\n",
       "    </tr>\n",
       "    <tr>\n",
       "      <th>...</th>\n",
       "      <td>...</td>\n",
       "      <td>...</td>\n",
       "      <td>...</td>\n",
       "      <td>...</td>\n",
       "      <td>...</td>\n",
       "      <td>...</td>\n",
       "      <td>...</td>\n",
       "      <td>...</td>\n",
       "      <td>...</td>\n",
       "      <td>...</td>\n",
       "      <td>...</td>\n",
       "      <td>...</td>\n",
       "      <td>...</td>\n",
       "      <td>...</td>\n",
       "      <td>...</td>\n",
       "      <td>...</td>\n",
       "      <td>...</td>\n",
       "      <td>...</td>\n",
       "      <td>...</td>\n",
       "      <td>...</td>\n",
       "      <td>...</td>\n",
       "    </tr>\n",
       "    <tr>\n",
       "      <th>74133</th>\n",
       "      <td>73</td>\n",
       "      <td>334</td>\n",
       "      <td>1</td>\n",
       "      <td>999</td>\n",
       "      <td>0</td>\n",
       "      <td>0</td>\n",
       "      <td>0</td>\n",
       "      <td>0</td>\n",
       "      <td>1</td>\n",
       "      <td>0</td>\n",
       "      <td>...</td>\n",
       "      <td>0</td>\n",
       "      <td>0</td>\n",
       "      <td>0</td>\n",
       "      <td>1</td>\n",
       "      <td>0</td>\n",
       "      <td>0</td>\n",
       "      <td>0</td>\n",
       "      <td>0</td>\n",
       "      <td>0</td>\n",
       "      <td>0</td>\n",
       "    </tr>\n",
       "    <tr>\n",
       "      <th>74134</th>\n",
       "      <td>46</td>\n",
       "      <td>383</td>\n",
       "      <td>1</td>\n",
       "      <td>999</td>\n",
       "      <td>0</td>\n",
       "      <td>0</td>\n",
       "      <td>0</td>\n",
       "      <td>0</td>\n",
       "      <td>0</td>\n",
       "      <td>0</td>\n",
       "      <td>...</td>\n",
       "      <td>0</td>\n",
       "      <td>0</td>\n",
       "      <td>0</td>\n",
       "      <td>1</td>\n",
       "      <td>0</td>\n",
       "      <td>0</td>\n",
       "      <td>1</td>\n",
       "      <td>0</td>\n",
       "      <td>0</td>\n",
       "      <td>0</td>\n",
       "    </tr>\n",
       "    <tr>\n",
       "      <th>74135</th>\n",
       "      <td>56</td>\n",
       "      <td>189</td>\n",
       "      <td>2</td>\n",
       "      <td>999</td>\n",
       "      <td>0</td>\n",
       "      <td>0</td>\n",
       "      <td>0</td>\n",
       "      <td>0</td>\n",
       "      <td>1</td>\n",
       "      <td>0</td>\n",
       "      <td>...</td>\n",
       "      <td>0</td>\n",
       "      <td>0</td>\n",
       "      <td>0</td>\n",
       "      <td>0</td>\n",
       "      <td>1</td>\n",
       "      <td>0</td>\n",
       "      <td>0</td>\n",
       "      <td>0</td>\n",
       "      <td>0</td>\n",
       "      <td>0</td>\n",
       "    </tr>\n",
       "    <tr>\n",
       "      <th>74136</th>\n",
       "      <td>44</td>\n",
       "      <td>442</td>\n",
       "      <td>1</td>\n",
       "      <td>999</td>\n",
       "      <td>0</td>\n",
       "      <td>0</td>\n",
       "      <td>0</td>\n",
       "      <td>0</td>\n",
       "      <td>0</td>\n",
       "      <td>0</td>\n",
       "      <td>...</td>\n",
       "      <td>0</td>\n",
       "      <td>0</td>\n",
       "      <td>0</td>\n",
       "      <td>1</td>\n",
       "      <td>0</td>\n",
       "      <td>0</td>\n",
       "      <td>0</td>\n",
       "      <td>0</td>\n",
       "      <td>0</td>\n",
       "      <td>0</td>\n",
       "    </tr>\n",
       "    <tr>\n",
       "      <th>74137</th>\n",
       "      <td>74</td>\n",
       "      <td>239</td>\n",
       "      <td>3</td>\n",
       "      <td>999</td>\n",
       "      <td>1</td>\n",
       "      <td>0</td>\n",
       "      <td>0</td>\n",
       "      <td>0</td>\n",
       "      <td>1</td>\n",
       "      <td>0</td>\n",
       "      <td>...</td>\n",
       "      <td>0</td>\n",
       "      <td>0</td>\n",
       "      <td>0</td>\n",
       "      <td>1</td>\n",
       "      <td>0</td>\n",
       "      <td>0</td>\n",
       "      <td>0</td>\n",
       "      <td>0</td>\n",
       "      <td>0</td>\n",
       "      <td>0</td>\n",
       "    </tr>\n",
       "  </tbody>\n",
       "</table>\n",
       "<p>74138 rows × 55 columns</p>\n",
       "</div>"
      ],
      "text/plain": [
       "       age  duration  campaign  pdays  previous  entrepreneur  housemaid  \\\n",
       "0       49       227         4    999         0             0          0   \n",
       "1       37       202         2    999         1             1          0   \n",
       "2       78      1148         1    999         0             0          0   \n",
       "3       36       120         2    999         0             0          0   \n",
       "4       59       368         2    999         0             0          0   \n",
       "...    ...       ...       ...    ...       ...           ...        ...   \n",
       "74133   73       334         1    999         0             0          0   \n",
       "74134   46       383         1    999         0             0          0   \n",
       "74135   56       189         2    999         0             0          0   \n",
       "74136   44       442         1    999         0             0          0   \n",
       "74137   74       239         3    999         1             0          0   \n",
       "\n",
       "       management  retired  services  ...  success  self_employed  basic9y  \\\n",
       "0               0        0         0  ...        0              0        1   \n",
       "1               0        0         0  ...        0              0        0   \n",
       "2               0        1         0  ...        0              0        0   \n",
       "3               0        0         0  ...        0              0        0   \n",
       "4               0        1         0  ...        0              0        0   \n",
       "...           ...      ...       ...  ...      ...            ...      ...   \n",
       "74133           0        1         0  ...        0              0        0   \n",
       "74134           0        0         0  ...        0              0        0   \n",
       "74135           0        1         0  ...        0              0        0   \n",
       "74136           0        0         0  ...        0              0        0   \n",
       "74137           0        1         0  ...        0              0        0   \n",
       "\n",
       "       professional_course  university_degree  admin  blue_collar  \\\n",
       "0                        0                  0      0            1   \n",
       "1                        0                  1      0            0   \n",
       "2                        0                  0      0            0   \n",
       "3                        0                  1      1            0   \n",
       "4                        0                  1      0            0   \n",
       "...                    ...                ...    ...          ...   \n",
       "74133                    1                  0      0            0   \n",
       "74134                    1                  0      0            1   \n",
       "74135                    0                  1      0            0   \n",
       "74136                    1                  0      0            0   \n",
       "74137                    1                  0      0            0   \n",
       "\n",
       "       high_school  basic6y  basic4y  \n",
       "0                0        0        0  \n",
       "1                0        0        0  \n",
       "2                0        0        1  \n",
       "3                0        0        0  \n",
       "4                0        0        0  \n",
       "...            ...      ...      ...  \n",
       "74133            0        0        0  \n",
       "74134            0        0        0  \n",
       "74135            0        0        0  \n",
       "74136            0        0        0  \n",
       "74137            0        0        0  \n",
       "\n",
       "[74138 rows x 55 columns]"
      ]
     },
     "execution_count": 15,
     "metadata": {},
     "output_type": "execute_result"
    }
   ],
   "source": [
    "X"
   ]
  },
  {
   "cell_type": "code",
   "execution_count": 16,
   "id": "f0f6d168",
   "metadata": {},
   "outputs": [],
   "source": [
    "X,X_test,y,y_test=train_test_split(X,y,test_size=.3)"
   ]
  },
  {
   "cell_type": "code",
   "execution_count": 17,
   "id": "4213398a",
   "metadata": {},
   "outputs": [],
   "source": [
    "X_train,X_val,y_train,y_val=train_test_split(X,y,test_size=0.25)"
   ]
  },
  {
   "cell_type": "code",
   "execution_count": 18,
   "id": "5aa54424",
   "metadata": {},
   "outputs": [],
   "source": [
    "from sklearn.metrics import confusion_matrix"
   ]
  },
  {
   "cell_type": "markdown",
   "id": "4da0f945",
   "metadata": {},
   "source": [
    "## Preprocessing data"
   ]
  },
  {
   "cell_type": "markdown",
   "id": "4053ab5e",
   "metadata": {},
   "source": [
    "* Feature engineering"
   ]
  },
  {
   "cell_type": "markdown",
   "id": "77af78c3",
   "metadata": {},
   "source": [
    "* Scaling"
   ]
  },
  {
   "cell_type": "code",
   "execution_count": 19,
   "id": "61ad8b8f",
   "metadata": {},
   "outputs": [],
   "source": [
    "from sklearn.preprocessing import StandardScaler, PolynomialFeatures\n",
    "\n",
    "scaler =StandardScaler()\n",
    "X_train_scaled=scaler.fit_transform(X_train.values)\n",
    "X_val_scaled=scaler.fit_transform(X_val.values)\n",
    "X_test_scaled=scaler.fit_transform(X_test.values)"
   ]
  },
  {
   "cell_type": "markdown",
   "id": "e4975a04",
   "metadata": {},
   "source": [
    "*  Handling class imbalance (Synthetic Minority Oversampling Technique)"
   ]
  },
  {
   "cell_type": "code",
   "execution_count": 20,
   "id": "192844a2",
   "metadata": {
    "scrolled": true
   },
   "outputs": [
    {
     "name": "stdout",
     "output_type": "stream",
     "text": [
      "Requirement already satisfied: imbalanced-learn in /opt/anaconda3/lib/python3.8/site-packages (0.8.1)\n",
      "Requirement already satisfied: scikit-learn>=0.24 in /opt/anaconda3/lib/python3.8/site-packages (from imbalanced-learn) (0.24.1)\n",
      "Requirement already satisfied: joblib>=0.11 in /opt/anaconda3/lib/python3.8/site-packages (from imbalanced-learn) (1.0.1)\n",
      "Requirement already satisfied: scipy>=0.19.1 in /opt/anaconda3/lib/python3.8/site-packages (from imbalanced-learn) (1.6.2)\n",
      "Requirement already satisfied: numpy>=1.13.3 in /opt/anaconda3/lib/python3.8/site-packages (from imbalanced-learn) (1.20.1)\n",
      "Requirement already satisfied: threadpoolctl>=2.0.0 in /opt/anaconda3/lib/python3.8/site-packages (from scikit-learn>=0.24->imbalanced-learn) (2.1.0)\n",
      "Note: you may need to restart the kernel to use updated packages.\n"
     ]
    }
   ],
   "source": [
    "pip install imbalanced-learn\n"
   ]
  },
  {
   "cell_type": "code",
   "execution_count": 21,
   "id": "66933938",
   "metadata": {},
   "outputs": [
    {
     "name": "stdout",
     "output_type": "stream",
     "text": [
      "0.8.1\n"
     ]
    }
   ],
   "source": [
    "# check version number\n",
    "import imblearn\n",
    "print(imblearn.__version__)"
   ]
  },
  {
   "cell_type": "code",
   "execution_count": 22,
   "id": "52ec7a5d",
   "metadata": {
    "scrolled": true
   },
   "outputs": [
    {
     "name": "stdout",
     "output_type": "stream",
     "text": [
      "Counter({0: 46080, 1: 5816})\n"
     ]
    }
   ],
   "source": [
    "from collections import Counter\n",
    "counter=Counter(y)\n",
    "print(counter)"
   ]
  },
  {
   "cell_type": "code",
   "execution_count": 23,
   "id": "886d71e7",
   "metadata": {},
   "outputs": [
    {
     "data": {
      "text/plain": [
       "<AxesSubplot:>"
      ]
     },
     "execution_count": 23,
     "metadata": {},
     "output_type": "execute_result"
    },
    {
     "data": {
      "image/png": "[encoded data removed]",
      "text/plain": [
       "<Figure size 432x288 with 1 Axes>"
      ]
     },
     "metadata": {
      "needs_background": "light"
     },
     "output_type": "display_data"
    }
   ],
   "source": [
    "perc =  [i for i in counter.values()]\n",
    "sns.barplot(x=list(counter.keys()),y=perc,color='#800000')"
   ]
  },
  {
   "cell_type": "code",
   "execution_count": 24,
   "id": "481705c4",
   "metadata": {},
   "outputs": [],
   "source": [
    "from imblearn import under_sampling, over_sampling\n",
    "from imblearn.over_sampling import SMOTE\n",
    "import numpy as np\n",
    "# np.array(X)\n",
    "X_train1=np.array(X_train)\n",
    "smote = SMOTE()\n",
    "X_train_res,y_train_res=smote.fit_resample(X_train1,y_train)"
   ]
  },
  {
   "cell_type": "code",
   "execution_count": 25,
   "id": "404994de",
   "metadata": {},
   "outputs": [],
   "source": [
    "e=Counter(y_train_res)\n"
   ]
  },
  {
   "cell_type": "code",
   "execution_count": 26,
   "id": "aa8d1e4e",
   "metadata": {},
   "outputs": [
    {
     "data": {
      "text/plain": [
       "<AxesSubplot:>"
      ]
     },
     "execution_count": 26,
     "metadata": {},
     "output_type": "execute_result"
    },
    {
     "data": {
      "image/png": "[encoded data removed]",
      "text/plain": [
       "<Figure size 432x288 with 1 Axes>"
      ]
     },
     "metadata": {
      "needs_background": "light"
     },
     "output_type": "display_data"
    }
   ],
   "source": [
    "perc =  [i for i in e.values()]\n",
    "sns.barplot(x=list(e.keys()),y=perc,color='#800000')"
   ]
  },
  {
   "cell_type": "markdown",
   "id": "444ba393",
   "metadata": {},
   "source": [
    "### Modeling and Evaluation"
   ]
  },
  {
   "cell_type": "code",
   "execution_count": 27,
   "id": "5ff036c2",
   "metadata": {},
   "outputs": [],
   "source": [
    "models,F1score,precision,recall,predict,roc_auc_score,preprocessing=[],[],[],[],[],[],[]\n",
    "accuracy_score=[]\n",
    "def test_the_models(model,X_train,y_train,X_val,y_val,pre=None):\n",
    "    model.fit(X_val,y_val)\n",
    "    models.append(model)\n",
    "    y_pred=model.predict(X_val)\n",
    "    predict.append(y_pred)\n",
    "    preprocessing.append(pre)\n",
    "    precision.append(precision_score(y_val,y_pred))\n",
    "\n",
    "    print('Classification Report :')\n",
    "    print(classification_report(y_val,y_pred))\n",
    "    \n",
    "    \n",
    "    recall.append(recall_score(y_val,y_pred))\n",
    "    F1score.append(f1_score(y_val,y_pred))\n",
    "#     roc_auc_score.append(roc_auc_score(y_val, y_prob[:,1]))\n",
    "    matrix = confusion_matrix(y_val, y_pred)\n",
    "    sns.heatmap(matrix, annot=True, fmt=\".1f\", linewidths=.6, \n",
    "            square = True, cmap =\"RdGy\")\n",
    "    plt.ylabel('Actual label')\n",
    "    plt.xlabel('Predicted label')\n",
    "    plt.show()\n",
    "    \n",
    "    "
   ]
  },
  {
   "cell_type": "markdown",
   "id": "9b8a0036",
   "metadata": {},
   "source": [
    "* #### Classifier implementing the k-nearest neighbors vote."
   ]
  },
  {
   "cell_type": "markdown",
   "id": "28bdaa3f",
   "metadata": {},
   "source": [
    ">scaling"
   ]
  },
  {
   "cell_type": "code",
   "execution_count": 28,
   "id": "b6a55680",
   "metadata": {},
   "outputs": [
    {
     "name": "stdout",
     "output_type": "stream",
     "text": [
      "Classification Report :\n",
      "              precision    recall  f1-score   support\n",
      "\n",
      "           0       0.93      0.98      0.95     11469\n",
      "           1       0.74      0.42      0.54      1505\n",
      "\n",
      "    accuracy                           0.92     12974\n",
      "   macro avg       0.83      0.70      0.74     12974\n",
      "weighted avg       0.91      0.92      0.91     12974\n",
      "\n"
     ]
    },
    {
     "data": {
      "image/png": "[encoded data removed]",
      "text/plain": [
       "<Figure size 432x288 with 2 Axes>"
      ]
     },
     "metadata": {
      "needs_background": "light"
     },
     "output_type": "display_data"
    }
   ],
   "source": [
    "test_the_models(KNeighborsClassifier(),X_train_scaled,y_train,X_val_scaled,y_val,'scaling')"
   ]
  },
  {
   "cell_type": "markdown",
   "id": "36d919f6",
   "metadata": {},
   "source": [
    "> Resampled data"
   ]
  },
  {
   "cell_type": "code",
   "execution_count": 29,
   "id": "466e1697",
   "metadata": {},
   "outputs": [
    {
     "name": "stdout",
     "output_type": "stream",
     "text": [
      "Classification Report :\n",
      "              precision    recall  f1-score   support\n",
      "\n",
      "           0       0.94      0.98      0.96     11469\n",
      "           1       0.73      0.51      0.60      1505\n",
      "\n",
      "    accuracy                           0.92     12974\n",
      "   macro avg       0.84      0.74      0.78     12974\n",
      "weighted avg       0.91      0.92      0.92     12974\n",
      "\n"
     ]
    },
    {
     "data": {
      "image/png": "[encoded data removed]",
      "text/plain": [
       "<Figure size 432x288 with 2 Axes>"
      ]
     },
     "metadata": {
      "needs_background": "light"
     },
     "output_type": "display_data"
    }
   ],
   "source": [
    "test_the_models(KNeighborsClassifier(),X_train_res,y_train_res,X_val,y_val,'Resampled data')"
   ]
  },
  {
   "cell_type": "markdown",
   "id": "483eea48",
   "metadata": {},
   "source": [
    "* #### Logistic Regression classifier."
   ]
  },
  {
   "cell_type": "markdown",
   "id": "77be436f",
   "metadata": {},
   "source": [
    "> scaling"
   ]
  },
  {
   "cell_type": "code",
   "execution_count": 30,
   "id": "d3ee4fad",
   "metadata": {
    "scrolled": true
   },
   "outputs": [
    {
     "name": "stdout",
     "output_type": "stream",
     "text": [
      "Classification Report :\n",
      "              precision    recall  f1-score   support\n",
      "\n",
      "           0       0.92      0.97      0.95     11469\n",
      "           1       0.66      0.36      0.47      1505\n",
      "\n",
      "    accuracy                           0.90     12974\n",
      "   macro avg       0.79      0.67      0.71     12974\n",
      "weighted avg       0.89      0.90      0.89     12974\n",
      "\n"
     ]
    },
    {
     "data": {
      "image/png": "[encoded data removed]",
      "text/plain": [
       "<Figure size 432x288 with 2 Axes>"
      ]
     },
     "metadata": {
      "needs_background": "light"
     },
     "output_type": "display_data"
    }
   ],
   "source": [
    "test_the_models(LogisticRegression(random_state=42),X_train_scaled,y_train,X_val_scaled,y_val,'scaling')"
   ]
  },
  {
   "cell_type": "markdown",
   "id": "fa75f87e",
   "metadata": {},
   "source": [
    "> Resampled data"
   ]
  },
  {
   "cell_type": "code",
   "execution_count": 31,
   "id": "5c32ebcb",
   "metadata": {},
   "outputs": [
    {
     "name": "stdout",
     "output_type": "stream",
     "text": [
      "Classification Report :\n",
      "              precision    recall  f1-score   support\n",
      "\n",
      "           0       0.91      0.98      0.94     11469\n",
      "           1       0.63      0.29      0.40      1505\n",
      "\n",
      "    accuracy                           0.90     12974\n",
      "   macro avg       0.77      0.63      0.67     12974\n",
      "weighted avg       0.88      0.90      0.88     12974\n",
      "\n"
     ]
    },
    {
     "name": "stderr",
     "output_type": "stream",
     "text": [
      "/opt/anaconda3/lib/python3.8/site-packages/sklearn/linear_model/_logistic.py:763: ConvergenceWarning: lbfgs failed to converge (status=1):\n",
      "STOP: TOTAL NO. of ITERATIONS REACHED LIMIT.\n",
      "\n",
      "Increase the number of iterations (max_iter) or scale the data as shown in:\n",
      "    https://scikit-learn.org/stable/modules/preprocessing.html\n",
      "Please also refer to the documentation for alternative solver options:\n",
      "    https://scikit-learn.org/stable/modules/linear_model.html#logistic-regression\n",
      "  n_iter_i = _check_optimize_result(\n"
     ]
    },
    {
     "data": {
      "image/png": "[encoded data removed]",
      "text/plain": [
       "<Figure size 432x288 with 2 Axes>"
      ]
     },
     "metadata": {
      "needs_background": "light"
     },
     "output_type": "display_data"
    }
   ],
   "source": [
    "test_the_models(LogisticRegression(random_state=42),X_train_res,y_train_res,X_val,y_val,'Resampled data')"
   ]
  },
  {
   "cell_type": "markdown",
   "id": "d5c50385",
   "metadata": {},
   "source": [
    "* #### A random forest classifier."
   ]
  },
  {
   "cell_type": "markdown",
   "id": "7de51522",
   "metadata": {},
   "source": [
    "> Resampled data"
   ]
  },
  {
   "cell_type": "code",
   "execution_count": 32,
   "id": "f2cb2ec3",
   "metadata": {},
   "outputs": [
    {
     "name": "stdout",
     "output_type": "stream",
     "text": [
      "Classification Report :\n",
      "              precision    recall  f1-score   support\n",
      "\n",
      "           0       1.00      1.00      1.00     11469\n",
      "           1       1.00      1.00      1.00      1505\n",
      "\n",
      "    accuracy                           1.00     12974\n",
      "   macro avg       1.00      1.00      1.00     12974\n",
      "weighted avg       1.00      1.00      1.00     12974\n",
      "\n"
     ]
    },
    {
     "data": {
      "image/png": "[encoded data removed]",
      "text/plain": [
       "<Figure size 432x288 with 2 Axes>"
      ]
     },
     "metadata": {
      "needs_background": "light"
     },
     "output_type": "display_data"
    }
   ],
   "source": [
    "from sklearn.ensemble import RandomForestClassifier\n",
    "\n",
    "RandomForestClassifier=RandomForestClassifier()\n",
    "test_the_models(RandomForestClassifier,X_train_res,y_train_res,X_val,y_val,'Resampled data')"
   ]
  },
  {
   "cell_type": "markdown",
   "id": "ca4bd9f4",
   "metadata": {},
   "source": [
    "> scaling"
   ]
  },
  {
   "cell_type": "code",
   "execution_count": 33,
   "id": "6fd1a476",
   "metadata": {},
   "outputs": [
    {
     "name": "stdout",
     "output_type": "stream",
     "text": [
      "Classification Report :\n",
      "              precision    recall  f1-score   support\n",
      "\n",
      "           0       1.00      1.00      1.00     11469\n",
      "           1       1.00      1.00      1.00      1505\n",
      "\n",
      "    accuracy                           1.00     12974\n",
      "   macro avg       1.00      1.00      1.00     12974\n",
      "weighted avg       1.00      1.00      1.00     12974\n",
      "\n"
     ]
    },
    {
     "data": {
      "image/png": "[encoded data removed]",
      "text/plain": [
       "<Figure size 432x288 with 2 Axes>"
      ]
     },
     "metadata": {
      "needs_background": "light"
     },
     "output_type": "display_data"
    }
   ],
   "source": [
    "from sklearn.ensemble import RandomForestClassifier\n",
    "RandomForestClassifier=RandomForestClassifier()\n",
    "test_the_models(RandomForestClassifier,X_train_scaled,y_train,X_val_scaled,y_val,'scaling')"
   ]
  },
  {
   "cell_type": "markdown",
   "id": "70a72a0e",
   "metadata": {},
   "source": [
    "* #### Gradient Boosting for classification.\n",
    "\n"
   ]
  },
  {
   "cell_type": "markdown",
   "id": "c28d862b",
   "metadata": {},
   "source": [
    "> scaling"
   ]
  },
  {
   "cell_type": "code",
   "execution_count": 34,
   "id": "3de973e5",
   "metadata": {},
   "outputs": [
    {
     "name": "stdout",
     "output_type": "stream",
     "text": [
      "Classification Report :\n",
      "              precision    recall  f1-score   support\n",
      "\n",
      "           0       0.93      0.98      0.95     11469\n",
      "           1       0.72      0.46      0.56      1505\n",
      "\n",
      "    accuracy                           0.92     12974\n",
      "   macro avg       0.83      0.72      0.76     12974\n",
      "weighted avg       0.91      0.92      0.91     12974\n",
      "\n"
     ]
    },
    {
     "data": {
      "image/png": "[encoded data removed]",
      "text/plain": [
       "<Figure size 432x288 with 2 Axes>"
      ]
     },
     "metadata": {
      "needs_background": "light"
     },
     "output_type": "display_data"
    }
   ],
   "source": [
    "from sklearn.ensemble import GradientBoostingClassifier\n",
    "\n",
    "GradientBoostingClassifier=GradientBoostingClassifier()\n",
    "test_the_models(GradientBoostingClassifier,X_train_scaled,y_train,X_val_scaled,y_val,'scaling')"
   ]
  },
  {
   "cell_type": "markdown",
   "id": "fa209e34",
   "metadata": {},
   "source": [
    "> Resampled data"
   ]
  },
  {
   "cell_type": "code",
   "execution_count": 35,
   "id": "d796a9e0",
   "metadata": {},
   "outputs": [
    {
     "name": "stdout",
     "output_type": "stream",
     "text": [
      "Classification Report :\n",
      "              precision    recall  f1-score   support\n",
      "\n",
      "           0       0.93      0.98      0.95     11469\n",
      "           1       0.72      0.46      0.56      1505\n",
      "\n",
      "    accuracy                           0.92     12974\n",
      "   macro avg       0.83      0.72      0.76     12974\n",
      "weighted avg       0.91      0.92      0.91     12974\n",
      "\n"
     ]
    },
    {
     "data": {
      "image/png": "[encoded data removed]",
      "text/plain": [
       "<Figure size 432x288 with 2 Axes>"
      ]
     },
     "metadata": {
      "needs_background": "light"
     },
     "output_type": "display_data"
    }
   ],
   "source": [
    "from sklearn.ensemble import GradientBoostingClassifier\n",
    "GradientBoostingClassifier=GradientBoostingClassifier()\n",
    "test_the_models(GradientBoostingClassifier,X_train_res,y_train_res,X_val,y_val,'Resampled data')"
   ]
  },
  {
   "cell_type": "markdown",
   "id": "27c02b8e",
   "metadata": {},
   "source": [
    "* #### An AdaBoost classifier."
   ]
  },
  {
   "cell_type": "markdown",
   "id": "235014d2",
   "metadata": {},
   "source": [
    "> scaling"
   ]
  },
  {
   "cell_type": "code",
   "execution_count": 36,
   "id": "76618fe4",
   "metadata": {},
   "outputs": [
    {
     "name": "stdout",
     "output_type": "stream",
     "text": [
      "Classification Report :\n",
      "              precision    recall  f1-score   support\n",
      "\n",
      "           0       0.92      0.97      0.95     11469\n",
      "           1       0.64      0.39      0.49      1505\n",
      "\n",
      "    accuracy                           0.90     12974\n",
      "   macro avg       0.78      0.68      0.72     12974\n",
      "weighted avg       0.89      0.90      0.89     12974\n",
      "\n"
     ]
    },
    {
     "data": {
      "image/png": "[encoded data removed]",
      "text/plain": [
       "<Figure size 432x288 with 2 Axes>"
      ]
     },
     "metadata": {
      "needs_background": "light"
     },
     "output_type": "display_data"
    }
   ],
   "source": [
    "from sklearn.ensemble import AdaBoostClassifier\n",
    "AdaBoostClassifier=AdaBoostClassifier()\n",
    "\n",
    "test_the_models(AdaBoostClassifier,X_train_scaled,y_train,X_val_scaled,y_val,'scaling')"
   ]
  },
  {
   "cell_type": "markdown",
   "id": "5ad65ce1",
   "metadata": {},
   "source": [
    "> Resampled data"
   ]
  },
  {
   "cell_type": "code",
   "execution_count": 37,
   "id": "ae63f314",
   "metadata": {
    "scrolled": true
   },
   "outputs": [
    {
     "name": "stdout",
     "output_type": "stream",
     "text": [
      "Classification Report :\n",
      "              precision    recall  f1-score   support\n",
      "\n",
      "           0       0.92      0.97      0.95     11469\n",
      "           1       0.64      0.39      0.49      1505\n",
      "\n",
      "    accuracy                           0.90     12974\n",
      "   macro avg       0.78      0.68      0.72     12974\n",
      "weighted avg       0.89      0.90      0.89     12974\n",
      "\n"
     ]
    },
    {
     "data": {
      "image/png": "[encoded data removed]",
      "text/plain": [
       "<Figure size 432x288 with 2 Axes>"
      ]
     },
     "metadata": {
      "needs_background": "light"
     },
     "output_type": "display_data"
    }
   ],
   "source": [
    "from sklearn.ensemble import AdaBoostClassifier\n",
    "AdaBoostClassifier=AdaBoostClassifier()\n",
    "\n",
    "test_the_models(AdaBoostClassifier,X_train_res,y_train_res,X_val,y_val,'Resampled data')"
   ]
  },
  {
   "cell_type": "markdown",
   "id": "4a93eac4",
   "metadata": {},
   "source": [
    "* #### Support vector machines (SVMs)"
   ]
  },
  {
   "cell_type": "markdown",
   "id": "51851d2c",
   "metadata": {},
   "source": [
    "> scaling"
   ]
  },
  {
   "cell_type": "code",
   "execution_count": 38,
   "id": "e798dbb4",
   "metadata": {},
   "outputs": [
    {
     "name": "stdout",
     "output_type": "stream",
     "text": [
      "Classification Report :\n",
      "              precision    recall  f1-score   support\n",
      "\n",
      "           0       0.93      0.99      0.96     11469\n",
      "           1       0.86      0.45      0.59      1505\n",
      "\n",
      "    accuracy                           0.93     12974\n",
      "   macro avg       0.90      0.72      0.78     12974\n",
      "weighted avg       0.92      0.93      0.92     12974\n",
      "\n"
     ]
    },
    {
     "data": {
      "image/png": "[encoded data removed]",
      "text/plain": [
       "<Figure size 432x288 with 2 Axes>"
      ]
     },
     "metadata": {
      "needs_background": "light"
     },
     "output_type": "display_data"
    }
   ],
   "source": [
    "from sklearn.svm import SVC\n",
    "\n",
    "SVC=SVC()\n",
    "test_the_models(SVC,X_train_scaled,y_train,X_val_scaled,y_val,'scaling')"
   ]
  },
  {
   "cell_type": "markdown",
   "id": "4b68050d",
   "metadata": {},
   "source": [
    "> Resampled data"
   ]
  },
  {
   "cell_type": "code",
   "execution_count": 39,
   "id": "b2233444",
   "metadata": {},
   "outputs": [
    {
     "name": "stdout",
     "output_type": "stream",
     "text": [
      "Classification Report :\n",
      "              precision    recall  f1-score   support\n",
      "\n",
      "           0       0.91      0.98      0.94     11469\n",
      "           1       0.61      0.29      0.39      1505\n",
      "\n",
      "    accuracy                           0.90     12974\n",
      "   macro avg       0.76      0.63      0.67     12974\n",
      "weighted avg       0.88      0.90      0.88     12974\n",
      "\n"
     ]
    },
    {
     "data": {
      "image/png": "[encoded data removed]",
      "text/plain": [
       "<Figure size 432x288 with 2 Axes>"
      ]
     },
     "metadata": {
      "needs_background": "light"
     },
     "output_type": "display_data"
    }
   ],
   "source": [
    "test_the_models(SVC,X_train_res,y_train_res,X_val,y_val,'Resampled data')"
   ]
  },
  {
   "cell_type": "code",
   "execution_count": 46,
   "id": "78a759a4",
   "metadata": {},
   "outputs": [],
   "source": [
    "modelsq=['KNeighbors Classifier','KNeighbors Classifier', 'Logistic Regression','Logistic Regression','Random Forest Classifier','Random Forest Classifier','Gradient Boosting Classifier','Gradient Boosting Classifier','AdaBoost Classifier','AdaBoost Classifier','SVC','SVC']\n",
    "M_df = pd.DataFrame({'Model':modelsq,\n",
    "                            'Precision':precision,\n",
    "                             \"preprocessing\":preprocessing,\n",
    "                            'Recall':recall,\n",
    "                            'F1-score':F1score})"
   ]
  },
  {
   "cell_type": "code",
   "execution_count": 47,
   "id": "f6e06fe5",
   "metadata": {},
   "outputs": [
    {
     "data": {
      "text/html": [
       "<div>\n",
       "<style scoped>\n",
       "    .dataframe tbody tr th:only-of-type {\n",
       "        vertical-align: middle;\n",
       "    }\n",
       "\n",
       "    .dataframe tbody tr th {\n",
       "        vertical-align: top;\n",
       "    }\n",
       "\n",
       "    .dataframe thead th {\n",
       "        text-align: right;\n",
       "    }\n",
       "</style>\n",
       "<table border=\"1\" class=\"dataframe\">\n",
       "  <thead>\n",
       "    <tr style=\"text-align: right;\">\n",
       "      <th></th>\n",
       "      <th>Model</th>\n",
       "      <th>Precision</th>\n",
       "      <th>preprocessing</th>\n",
       "      <th>Recall</th>\n",
       "      <th>F1-score</th>\n",
       "    </tr>\n",
       "  </thead>\n",
       "  <tbody>\n",
       "    <tr>\n",
       "      <th>0</th>\n",
       "      <td>KNeighbors Classifier</td>\n",
       "      <td>0.740610</td>\n",
       "      <td>scaling</td>\n",
       "      <td>0.419269</td>\n",
       "      <td>0.535426</td>\n",
       "    </tr>\n",
       "    <tr>\n",
       "      <th>1</th>\n",
       "      <td>KNeighbors Classifier</td>\n",
       "      <td>0.733524</td>\n",
       "      <td>Resampled data</td>\n",
       "      <td>0.510299</td>\n",
       "      <td>0.601881</td>\n",
       "    </tr>\n",
       "    <tr>\n",
       "      <th>2</th>\n",
       "      <td>Logistic Regression</td>\n",
       "      <td>0.656699</td>\n",
       "      <td>scaling</td>\n",
       "      <td>0.364784</td>\n",
       "      <td>0.469030</td>\n",
       "    </tr>\n",
       "    <tr>\n",
       "      <th>3</th>\n",
       "      <td>Logistic Regression</td>\n",
       "      <td>0.634503</td>\n",
       "      <td>Resampled data</td>\n",
       "      <td>0.288372</td>\n",
       "      <td>0.396528</td>\n",
       "    </tr>\n",
       "    <tr>\n",
       "      <th>4</th>\n",
       "      <td>Random Forest Classifier</td>\n",
       "      <td>1.000000</td>\n",
       "      <td>Resampled data</td>\n",
       "      <td>1.000000</td>\n",
       "      <td>1.000000</td>\n",
       "    </tr>\n",
       "    <tr>\n",
       "      <th>5</th>\n",
       "      <td>Random Forest Classifier</td>\n",
       "      <td>1.000000</td>\n",
       "      <td>scaling</td>\n",
       "      <td>1.000000</td>\n",
       "      <td>1.000000</td>\n",
       "    </tr>\n",
       "    <tr>\n",
       "      <th>6</th>\n",
       "      <td>Gradient Boosting Classifier</td>\n",
       "      <td>0.721414</td>\n",
       "      <td>scaling</td>\n",
       "      <td>0.461130</td>\n",
       "      <td>0.562627</td>\n",
       "    </tr>\n",
       "    <tr>\n",
       "      <th>7</th>\n",
       "      <td>Gradient Boosting Classifier</td>\n",
       "      <td>0.721414</td>\n",
       "      <td>Resampled data</td>\n",
       "      <td>0.461130</td>\n",
       "      <td>0.562627</td>\n",
       "    </tr>\n",
       "    <tr>\n",
       "      <th>8</th>\n",
       "      <td>AdaBoost Classifier</td>\n",
       "      <td>0.639913</td>\n",
       "      <td>scaling</td>\n",
       "      <td>0.392027</td>\n",
       "      <td>0.486197</td>\n",
       "    </tr>\n",
       "    <tr>\n",
       "      <th>9</th>\n",
       "      <td>AdaBoost Classifier</td>\n",
       "      <td>0.639913</td>\n",
       "      <td>Resampled data</td>\n",
       "      <td>0.392027</td>\n",
       "      <td>0.486197</td>\n",
       "    </tr>\n",
       "    <tr>\n",
       "      <th>10</th>\n",
       "      <td>SVC</td>\n",
       "      <td>0.858958</td>\n",
       "      <td>scaling</td>\n",
       "      <td>0.449169</td>\n",
       "      <td>0.589878</td>\n",
       "    </tr>\n",
       "    <tr>\n",
       "      <th>11</th>\n",
       "      <td>SVC</td>\n",
       "      <td>0.611664</td>\n",
       "      <td>Resampled data</td>\n",
       "      <td>0.285714</td>\n",
       "      <td>0.389493</td>\n",
       "    </tr>\n",
       "  </tbody>\n",
       "</table>\n",
       "</div>"
      ],
      "text/plain": [
       "                           Model  Precision   preprocessing    Recall  \\\n",
       "0          KNeighbors Classifier   0.740610         scaling  0.419269   \n",
       "1          KNeighbors Classifier   0.733524  Resampled data  0.510299   \n",
       "2            Logistic Regression   0.656699         scaling  0.364784   \n",
       "3            Logistic Regression   0.634503  Resampled data  0.288372   \n",
       "4       Random Forest Classifier   1.000000  Resampled data  1.000000   \n",
       "5       Random Forest Classifier   1.000000         scaling  1.000000   \n",
       "6   Gradient Boosting Classifier   0.721414         scaling  0.461130   \n",
       "7   Gradient Boosting Classifier   0.721414  Resampled data  0.461130   \n",
       "8            AdaBoost Classifier   0.639913         scaling  0.392027   \n",
       "9            AdaBoost Classifier   0.639913  Resampled data  0.392027   \n",
       "10                           SVC   0.858958         scaling  0.449169   \n",
       "11                           SVC   0.611664  Resampled data  0.285714   \n",
       "\n",
       "    F1-score  \n",
       "0   0.535426  \n",
       "1   0.601881  \n",
       "2   0.469030  \n",
       "3   0.396528  \n",
       "4   1.000000  \n",
       "5   1.000000  \n",
       "6   0.562627  \n",
       "7   0.562627  \n",
       "8   0.486197  \n",
       "9   0.486197  \n",
       "10  0.589878  \n",
       "11  0.389493  "
      ]
     },
     "execution_count": 47,
     "metadata": {},
     "output_type": "execute_result"
    }
   ],
   "source": [
    "M_df"
   ]
  },
  {
   "cell_type": "code",
   "execution_count": 48,
   "id": "9cb5eed8",
   "metadata": {},
   "outputs": [
    {
     "data": {
      "text/plain": [
       "<seaborn.axisgrid.FacetGrid at 0x7f9ea8b0db20>"
      ]
     },
     "execution_count": 48,
     "metadata": {},
     "output_type": "execute_result"
    },
    {
     "data": {
      "image/png": "[encoded data removed]",
      "text/plain": [
       "<Figure size 3456x576 with 6 Axes>"
      ]
     },
     "metadata": {},
     "output_type": "display_data"
    }
   ],
   "source": [
    "sns.set(font_scale=2.5)\n",
    "fit = sns.FacetGrid(M_df, col=\"Model\", height=8);\n",
    "fit.map(sns.barplot,\"preprocessing\", \"F1-score\", palette='icefire', order=[\"scaling\",\"Resampled data\"])\n",
    "fit.set_xlabels(' ')\n",
    "\n",
    "\n",
    "fit.set_xticklabels(size=40)\n",
    "fit.set_titles(size=34)\n",
    "fit.set_ylabels('F1-score', fontsize=60)"
   ]
  },
  {
   "cell_type": "code",
   "execution_count": 49,
   "id": "f387bdc3",
   "metadata": {
    "scrolled": true
   },
   "outputs": [
    {
     "data": {
      "text/plain": [
       "<seaborn.axisgrid.FacetGrid at 0x7f9ea89f7bb0>"
      ]
     },
     "execution_count": 49,
     "metadata": {},
     "output_type": "execute_result"
    },
    {
     "data": {
      "image/png": "[encoded data removed]",
      "text/plain": [
       "<Figure size 3456x576 with 6 Axes>"
      ]
     },
     "metadata": {},
     "output_type": "display_data"
    }
   ],
   "source": [
    "fit = sns.FacetGrid(M_df, col=\"Model\", height=8);\n",
    "fit.map(sns.barplot,\"preprocessing\", \"Precision\", palette='icefire', order=[\"scaling\",\"Resampled data\"])\n",
    "fit.set_xlabels(' ', fontsize=20)\n",
    "fit.set_titles(size=34)\n",
    "\n",
    "fit.set_xticklabels(size=40)\n",
    "fit.set_yticklabels(size=40)\n",
    "\n",
    "fit.set_ylabels('Precision', fontsize=60)"
   ]
  },
  {
   "cell_type": "markdown",
   "id": "e61d1c10",
   "metadata": {},
   "source": [
    "We can see here from graph that **Decision Tree Classifier** perform well."
   ]
  },
  {
   "cell_type": "code",
   "execution_count": 50,
   "id": "06b9a0a9",
   "metadata": {
    "scrolled": false
   },
   "outputs": [
    {
     "name": "stdout",
     "output_type": "stream",
     "text": [
      "Random Forest Classifier score: 0.9636\n"
     ]
    }
   ],
   "source": [
    "from sklearn.ensemble import RandomForestClassifier\n",
    "\n",
    "RandomForestClassifier=RandomForestClassifier()\n",
    "RandomForestClassifier.fit(X,y)\n",
    "\n",
    "print(f'Random Forest Classifier score: {RandomForestClassifier.score(X_test, y_test):.4f}')\n"
   ]
  },
  {
   "cell_type": "markdown",
   "id": "510ab2a9",
   "metadata": {},
   "source": [
    "Now we will improve this model using **GridSearchCv**"
   ]
  },
  {
   "cell_type": "code",
   "execution_count": 53,
   "id": "b398e372",
   "metadata": {},
   "outputs": [],
   "source": [
    "from sklearn.model_selection import GridSearchCV\n",
    "from sklearn.ensemble import RandomForestClassifier\n"
   ]
  },
  {
   "cell_type": "code",
   "execution_count": 55,
   "id": "b6bfd0ed",
   "metadata": {},
   "outputs": [
    {
     "name": "stdout",
     "output_type": "stream",
     "text": [
      "0.9295514105133343\n",
      "{'max_depth': 12, 'n_estimators': 320, 'random_state': 0}\n"
     ]
    }
   ],
   "source": [
    "parameters = {\n",
    "    'n_estimators'      : [320,330,340],\n",
    "    'max_depth'         : [8, 9, 10, 11, 12],\n",
    "    'random_state'      : [0],\n",
    "}\n",
    "\n",
    "clf = GridSearchCV(RandomForestClassifier(), parameters, cv=10, n_jobs=-1)\n",
    "clf.fit(X_train, y_train)\n",
    "\n",
    "print(clf.score(X_train, y_train))\n",
    "print(clf.best_params_)\n"
   ]
  },
  {
   "cell_type": "code",
   "execution_count": 57,
   "id": "812956b7",
   "metadata": {
    "scrolled": true
   },
   "outputs": [
    {
     "name": "stdout",
     "output_type": "stream",
     "text": [
      "Classification Report :\n",
      "              precision    recall  f1-score   support\n",
      "\n",
      "           0       0.94      1.00      0.97     11469\n",
      "           1       0.98      0.51      0.67      1505\n",
      "\n",
      "    accuracy                           0.94     12974\n",
      "   macro avg       0.96      0.75      0.82     12974\n",
      "weighted avg       0.94      0.94      0.93     12974\n",
      "\n"
     ]
    },
    {
     "data": {
      "image/png": "[encoded data removed]",
      "text/plain": [
       "<Figure size 432x288 with 2 Axes>"
      ]
     },
     "metadata": {},
     "output_type": "display_data"
    }
   ],
   "source": [
    "test_the_models(clf,X_train_scaled,y_train,X_val_scaled,y_val,'scaling')"
   ]
  },
  {
   "cell_type": "markdown",
   "id": "bd480577",
   "metadata": {},
   "source": [
    "Predict:"
   ]
  },
  {
   "cell_type": "code",
   "execution_count": null,
   "id": "64570a33",
   "metadata": {},
   "outputs": [],
   "source": [
    "X=df.iloc[:,0:5]\n",
    "y=df['Target']\n",
    "y"
   ]
  },
  {
   "cell_type": "code",
   "execution_count": null,
   "id": "48b51afd",
   "metadata": {},
   "outputs": [],
   "source": [
    "from sklearn.ensemble import GradientBoostingClassifier\n",
    "model=GradientBoostingClassifier(random_state=42)\n",
    "\n",
    "model.fit(X,y)\n",
    "pd.to_pickle(model,'/Users/hindsalem/Desktop/Project_Portuguese_Bank/Data/Dataset/model.pickle')\n",
    "predictions = model.predict(X)"
   ]
  },
  {
   "cell_type": "code",
   "execution_count": null,
   "id": "ae1a58e2",
   "metadata": {},
   "outputs": [],
   "source": [
    "model=pd.read_pickle('/Users/hindsalem/Desktop/Project_Portuguese_Bank/Data/Dataset/model.pickle')\n",
    "# read a pickle pd.read_pickle('model.pkl')\n",
    "\n",
    "# Take input from user\n",
    "age = float(input(\"Enter sepal_length: \"))\n",
    "duration = float(input(\"Enter sepa_width: \"))\n",
    "campaign = float(input(\"Enter petal_length: \"))\n",
    "pdays = float(input(\"Enter petal_width: \"))\n",
    "previous = float(input(\"Enter petal_width: \"))\n",
    "\n",
    "result = model.predict([[age,duration,campaign,pdays,previous]])  # input must be 2D array\n",
    "print(result)"
   ]
  },
  {
   "cell_type": "code",
   "execution_count": null,
   "id": "0820b16b",
   "metadata": {},
   "outputs": [],
   "source": [
    "print(X.to_string(index=False))\n"
   ]
  },
  {
   "cell_type": "code",
   "execution_count": null,
   "id": "c8286932",
   "metadata": {},
   "outputs": [],
   "source": [
    "X=X.reset_index(drop=True, inplace=True)"
   ]
  },
  {
   "cell_type": "code",
   "execution_count": null,
   "id": "1e638a2d",
   "metadata": {},
   "outputs": [],
   "source": [
    "X"
   ]
  },
  {
   "cell_type": "code",
   "execution_count": null,
   "id": "fef112a1",
   "metadata": {},
   "outputs": [],
   "source": []
  }
 ],
 "metadata": {
  "kernelspec": {
   "display_name": "Python 3",
   "language": "python",
   "name": "python3"
  },
  "language_info": {
   "codemirror_mode": {
    "name": "ipython",
    "version": 3
   },
   "file_extension": ".py",
   "mimetype": "text/x-python",
   "name": "python",
   "nbconvert_exporter": "python",
   "pygments_lexer": "ipython3",
   "version": "3.8.8"
  }
 },
 "nbformat": 4,
 "nbformat_minor": 5
}
